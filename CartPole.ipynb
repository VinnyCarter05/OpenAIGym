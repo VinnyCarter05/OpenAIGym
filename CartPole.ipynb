{
 "cells": [
  {
   "cell_type": "code",
   "execution_count": 1,
   "metadata": {},
   "outputs": [],
   "source": [
    "import gym\n",
    "import time"
   ]
  },
  {
   "cell_type": "code",
   "execution_count": 2,
   "metadata": {},
   "outputs": [],
   "source": [
    "env = gym.make('CartPole-v0')"
   ]
  },
  {
   "cell_type": "code",
   "execution_count": 3,
   "metadata": {},
   "outputs": [],
   "source": [
    "def next_action(observation, reward, done, info):\n",
    "    if observation [2] > 0:\n",
    "        return 1\n",
    "    else:\n",
    "        return 0"
   ]
  },
  {
   "cell_type": "code",
   "execution_count": 17,
   "metadata": {},
   "outputs": [
    {
     "name": "stdout",
     "output_type": "stream",
     "text": [
      "Best = 61\n",
      "Press any key to close\n"
     ]
    }
   ],
   "source": [
    "best = 0\n",
    "for i in range (100):\n",
    "    done = False\n",
    "    moves = 0\n",
    "    env.reset()\n",
    "    action = 1\n",
    "    while not done:\n",
    "        observation, reward, done, info = env.step(action)\n",
    "        moves += 1\n",
    "#         env.render()\n",
    "#         time.sleep(0.01)\n",
    "        action = next_action(observation, reward, done, info)\n",
    "#         print (observation, action)\n",
    "    if moves > best:\n",
    "        best = moves\n",
    "print (f'Best = {best}')\n",
    "input('Press any key to close')\n",
    "env.close()"
   ]
  },
  {
   "cell_type": "code",
   "execution_count": null,
   "metadata": {},
   "outputs": [],
   "source": []
  },
  {
   "cell_type": "code",
   "execution_count": null,
   "metadata": {},
   "outputs": [],
   "source": []
  }
 ],
 "metadata": {
  "kernelspec": {
   "display_name": "Python 3",
   "language": "python",
   "name": "python3"
  },
  "language_info": {
   "codemirror_mode": {
    "name": "ipython",
    "version": 3
   },
   "file_extension": ".py",
   "mimetype": "text/x-python",
   "name": "python",
   "nbconvert_exporter": "python",
   "pygments_lexer": "ipython3",
   "version": "3.7.3"
  }
 },
 "nbformat": 4,
 "nbformat_minor": 4
}
